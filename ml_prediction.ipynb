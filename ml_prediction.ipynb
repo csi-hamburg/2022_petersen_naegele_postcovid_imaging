{
 "cells": [
  {
   "cell_type": "markdown",
   "metadata": {},
   "source": [
    "# Imports and configuration"
   ]
  },
  {
   "cell_type": "code",
   "execution_count": 1,
   "metadata": {},
   "outputs": [],
   "source": [
    "import pandas as pd\n",
    "import numpy as np\n",
    "from pathlib import Path"
   ]
  },
  {
   "cell_type": "code",
   "execution_count": 2,
   "metadata": {},
   "outputs": [],
   "source": [
    "code_dir=Path.cwd()\n",
    "project_dir=code_dir.parent\n",
    "input_dir=project_dir/\"input\"\n",
    "output_dir=project_dir/\"output/ml_prediction\"\n",
    "tmp_dir=project_dir/\"tmp\"\n",
    "\n",
    "output_dir.mkdir(exist_ok=True)"
   ]
  },
  {
   "cell_type": "code",
   "execution_count": 7,
   "metadata": {},
   "outputs": [],
   "source": [
    "prediction_df = pd.read_csv(input_dir/\"prediction_df.csv\", index_col=0)\n",
    "roi_df_ct = pd.read_csv(input_dir/\"ROI_catROIs_aparc_DK40_thickness.csv\")"
   ]
  },
  {
   "cell_type": "code",
   "execution_count": 10,
   "metadata": {},
   "outputs": [],
   "source": [
    "ct_columns = prediction_df.loc[:,prediction_df.columns.isin(list(roi_df_ct.columns))].columns.tolist()\n",
    "fa_columns = [col for col in roi_df.columns if \"_FA\" in col and \"_FAt\" not in col]\n",
    "fat_columns = [col for col in roi_df.columns if \"_FAt\" in col]\n",
    "md_columns = [col for col in roi_df.columns if \"_MD\" in col and \"_MDt\" not in col]\n",
    "fw_columns = [col for col in roi_df.columns if \"_FW\" in col]\n",
    "fd_columns = [col for col in roi_df.columns if \"_fd\" in col and \"_fdc\" not in col]\n",
    "fc_columns = [col for col in roi_df.columns if \"_logfc\" in col]\n",
    "fdc_columns = [col for col in roi_df.columns if \"_fdc\" in col]\n",
    "complexity_columns = [col for col in roi_df.columns if \"_complexity\" in col]"
   ]
  },
  {
   "cell_type": "code",
   "execution_count": 11,
   "metadata": {},
   "outputs": [],
   "source": [
    "X_columns = [ct_columns,\n",
    "fa_columns,\n",
    "fat_columns,\n",
    "md_columns,\n",
    "fw_columns,\n",
    "fd_columns,\n",
    "fc_columns,\n",
    "fdc_columns,\n",
    "complexity_columns]"
   ]
  },
  {
   "cell_type": "markdown",
   "metadata": {},
   "source": [
    "# Prediction"
   ]
  },
  {
   "cell_type": "code",
   "execution_count": null,
   "metadata": {},
   "outputs": [],
   "source": [
    "import os\n",
    "os.environ[\"PYTHONWARNINGS\"] = \"ignore::UserWarning\"\n",
    "\n",
    "from sklearn.linear_model import LogisticRegressionCV\n",
    "from sklearn.model_selection import cross_validate, cross_val_predict, StratifiedKFold\n",
    "from sklearn.preprocessing import StandardScaler\n",
    "from sklearn.pipeline import Pipeline\n",
    "import pingouin as pg\n",
    "\n",
    "cv_df = pd.DataFrame(columns=X_metrics)               # Dataframe to store CV scores\n",
    "iterations=100\n",
    "\n",
    "X_metrics = [\"ct\",\"fa\",\"fat\",\"md\",\"fw\",\"fd\",\"fc\",\"fdc\",\"complexity\"]\n",
    "y_metric = \"cohort\"\n",
    "y = prediction_df[y_metric]\n",
    "\n",
    "\n",
    "for i in range(iterations):\n",
    "\n",
    "      for idx, X_cols in enumerate(X_columns):\n",
    "\n",
    "            # Define input data\n",
    "            X = prediction_df[X_cols]\n",
    "            metric = X_metrics[idx]\n",
    "\n",
    "            # Declare the inner and outer cross-validation strategies\n",
    "            inner_cv = StratifiedKFold(n_splits=10, shuffle=True, random_state=i)\n",
    "            outer_cv = StratifiedKFold(n_splits=10, shuffle=True, random_state=i)\n",
    "\n",
    "            # Inner cross-validation for parameter search\n",
    "            model = Pipeline(steps=[(\"scaling\",StandardScaler()),\n",
    "                  (\"logreg\", LogisticRegressionCV(cv=inner_cv, penalty=\"elasticnet\", solver=\"saga\", l1_ratios=[.1, .5, .7, .9, .95, .99, 1], n_jobs=16))            \n",
    "            ])\n",
    "            \n",
    "            # Outer cross-validation to compute the testing score\n",
    "            cv_results = cross_validate(model, X, y, cv=outer_cv, n_jobs=16, return_estimator=True)\n",
    "\n",
    "            # Store score in cv_df\n",
    "            cv_df.loc[f\"accuracy_mean_{i}\",metric] = cv_results['test_score'].mean()\n",
    "\n",
    "            print(f\"{metric}_{i}: the R2 using nested cross-validation is: \" +\n",
    "                  f\"{cv_df.loc[f'accuracy_mean_{i}',metric]:.3f} +/- {cv_results['test_score'].std():.3f}\")\n",
    "\n",
    "# Save dataframes for coefficients and scores\n",
    "cv_df.to_csv(output_dir/\"cv_df.csv\", sep=\" \")"
   ]
  },
  {
   "cell_type": "markdown",
   "metadata": {},
   "source": [
    "# Null predictions"
   ]
  },
  {
   "cell_type": "code",
   "execution_count": null,
   "metadata": {},
   "outputs": [],
   "source": [
    "from numpy.random import permutation\n",
    "\n",
    "from warnings import simplefilter\n",
    "from sklearn.exceptions import ConvergenceWarning\n",
    "from sklearn.model_selection import cross_val_score\n",
    "simplefilter(\"ignore\", category=ConvergenceWarning)\n",
    "\n",
    "permutations = 1000\n",
    "\n",
    "if Path(output_dir/\"permutation_df.csv\").exists(): \n",
    "      permutation_df = pd.read_csv(output_dir/\"permutation_df.csv\", index_col=0)\n",
    "else: \n",
    "      permutation_df = pd.DataFrame(columns=X_metrics)\n",
    "\n",
    "i = len(permutation_df[~permutation_df[metric].isnull()][metric])\n",
    "\n",
    "y_metric = \"cohort\"\n",
    "y = prediction_df[y_metric]\n",
    "\n",
    "while i <= permutations:\n",
    "\n",
    "      y_permute = permutation(y)\n",
    "\n",
    "      for idx, X_cols in enumerate(X_columns):\n",
    "\n",
    "            # Define input data\n",
    "            X = prediction_df[X_cols]\n",
    "            metric = X_metrics[idx]\n",
    "\n",
    "            # Declare the inner and outer cross-validation strategies\n",
    "            inner_cv = StratifiedKFold(n_splits=10, shuffle=True, random_state=i)\n",
    "            outer_cv = StratifiedKFold(n_splits=10, shuffle=True, random_state=i)\n",
    "\n",
    "            # Inner cross-validation for parameter search\n",
    "            model = Pipeline(steps=[(\"scaling\",StandardScaler()),\n",
    "                  (\"logreg\", LogisticRegressionCV(cv=inner_cv, penalty=\"elasticnet\", solver=\"saga\", l1_ratios=[.1, .5, .7, .9, .95, .99, 1], n_jobs=16))            \n",
    "            ])\n",
    "            \n",
    "            # Outer cross-validation to compute the testing score\n",
    "            test_score = cross_val_score(model, X, y_permute, cv=outer_cv, n_jobs=16)\n",
    "            if test_score.mean() == None: continue\n",
    "\n",
    "            permutation_df.loc[f\"accuracy_permutation_{i}\",metric] = test_score.mean()\n",
    "\n",
    "            print(f\"{metric}_{i}: the R2 using nested cross-validation is: \" +\n",
    "                  f\"{test_score.mean():.3f} +/- {cv_results['test_score'].std():.3f}\")\n",
    "            \n",
    "      i = len(permutation_df[~permutation_df[metric].isnull()][metric])\n",
    "      \n",
    "      if i % 100 == 0: print(i)\n",
    "\n",
    "permutation_df.to_csv(output_dir/\"permutation_df.csv\")"
   ]
  },
  {
   "cell_type": "markdown",
   "metadata": {},
   "source": [
    "# Plotting"
   ]
  },
  {
   "cell_type": "code",
   "execution_count": 15,
   "metadata": {},
   "outputs": [],
   "source": [
    "cv_df =pd.read_csv(output_dir/\"cv_df.csv\", sep=\" \", index_col=0)\n",
    "cv_df.index.rename=\"iteration\"\n",
    "\n",
    "permutation_df =pd.read_csv(output_dir/\"permutation_df.csv\", index_col=0)\n",
    "permutation_df.index.rename=\"iteration\""
   ]
  },
  {
   "cell_type": "code",
   "execution_count": 16,
   "metadata": {},
   "outputs": [],
   "source": [
    "cv_median = cv_df.median()\n",
    "cv_median_dict = cv_median.to_dict()"
   ]
  },
  {
   "cell_type": "code",
   "execution_count": 17,
   "metadata": {},
   "outputs": [],
   "source": [
    "from scipy.stats import percentileofscore\n",
    "from pingouin import multicomp\n",
    "n_tests = len(X_metrics)\n",
    "permutation_pval_dict = dict()\n",
    "permutation_sig_dict = dict()\n",
    "for idx,col in enumerate(permutation_df.columns):\n",
    "\n",
    "    if cv_median[idx] > 0:\n",
    "        percentile = percentileofscore(permutation_df[col], cv_median[idx])\n",
    "        pval = (100 - percentile) / 100\n",
    "        permutation_pval_dict[col] = pval\n",
    "    if cv_median[idx] < 0:\n",
    "        percentile = percentileofscore(permutation_df[col], cv_median[idx])\n",
    "        pval = percentile / 100\n",
    "        permutation_pval_dict[col] = pval\n",
    "\n",
    "multicomp_results = multicomp(list(permutation_pval_dict.values()), method=\"bonf\")\n",
    "\n",
    "\n",
    "permutation_sig_dict = dict(zip(X_metrics, multicomp_results[0]))\n",
    "permutation_pval_fdr_dict = dict(zip(X_metrics, multicomp_results[1]))\n",
    "cv_median_height_dict = dict(zip(cv_median_dict.values(),[0.86] * 10))\n",
    "permutation_pval_height_dict = dict(zip(list(permutation_sig_dict.keys()),[0.1] * len(permutation_sig_dict.keys())))"
   ]
  },
  {
   "cell_type": "code",
   "execution_count": 18,
   "metadata": {},
   "outputs": [],
   "source": [
    "import seaborn as sns\n",
    "import matplotlib.pyplot as plt\n",
    "import matplotlib.style as style"
   ]
  },
  {
   "cell_type": "code",
   "execution_count": 19,
   "metadata": {},
   "outputs": [],
   "source": [
    "X_metrics_plot = ['ct', 'fd', 'fc', 'fdc', 'complexity', 'fa', 'fat', 'md', 'fw']\n",
    "X_metrics_plot_styled = ['CT', 'FD', 'Log. FC', 'FDC', 'CX', 'FA', f'$FA_{{T}}$', 'MD', 'FW']"
   ]
  },
  {
   "cell_type": "code",
   "execution_count": null,
   "metadata": {},
   "outputs": [],
   "source": [
    "style.use(\"ggplot\")\n",
    "plt.tight_layout()\n",
    "\n",
    "data = pd.melt(cv_df[X_metrics_plot].reset_index(), id_vars=\"index\")\n",
    "x = \"variable\"\n",
    "\n",
    "y = \"value\"\n",
    "xlabel=\"\"\n",
    "ylabel=\"Accuracy\"\n",
    "palette=\"Blues_r\"\n",
    "fig,ax = plt.subplots(1, figsize=(10,6))\n",
    "\n",
    "plot = sns.boxplot(data=data, x=x, y=y, palette=palette, ax=ax, width=.6, linewidth=1.5, fliersize=0, zorder=1)\n",
    "\n",
    "ax.set_ylabel(ylabel, size=15)\n",
    "ax.set_xlabel(xlabel, size=15)\n",
    "\n",
    "plot.annotate(f\"*: $p$<0.05\", (8,0.105), ha=\"right\", va=\"center\", size=12)\n",
    "plt.xticks(np.arange(0,len(X_metrics_plot_styled)),X_metrics_plot_styled)\n",
    "\n",
    "for idx,(key,value) in enumerate(permutation_sig_dict.items()):\n",
    "    height = permutation_pval_height_dict[key]\n",
    "    if value == 1:\n",
    "        plot.annotate(\"*\", \n",
    "                    (idx, height), \n",
    "                    ha = 'center', va = 'center', \n",
    "                    size=15,\n",
    "                    xytext = (1, 1), \n",
    "                    textcoords = 'offset points')\n",
    "\n",
    "plt.savefig(output_dir/\"prediction_results.png\", dpi=300, bbox_inches=\"tight\")"
   ]
  },
  {
   "cell_type": "code",
   "execution_count": null,
   "metadata": {},
   "outputs": [],
   "source": []
  }
 ],
 "metadata": {
  "kernelspec": {
   "display_name": "Python 3.7.7 ('brainstat')",
   "language": "python",
   "name": "python3"
  },
  "language_info": {
   "codemirror_mode": {
    "name": "ipython",
    "version": 3
   },
   "file_extension": ".py",
   "mimetype": "text/x-python",
   "name": "python",
   "nbconvert_exporter": "python",
   "pygments_lexer": "ipython3",
   "version": "3.7.7"
  },
  "orig_nbformat": 4,
  "vscode": {
   "interpreter": {
    "hash": "e2354512771dad4c667efaf5b68897636356778bda725170f628cbff1df08cc7"
   }
  }
 },
 "nbformat": 4,
 "nbformat_minor": 2
}
